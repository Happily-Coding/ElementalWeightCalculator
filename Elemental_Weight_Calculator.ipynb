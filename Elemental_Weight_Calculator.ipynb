{
  "nbformat": 4,
  "nbformat_minor": 0,
  "metadata": {
    "colab": {
      "provenance": [],
      "authorship_tag": "ABX9TyNiFWjfM/sMEEmxW9/ExTsU",
      "include_colab_link": true
    },
    "kernelspec": {
      "name": "python3",
      "display_name": "Python 3"
    },
    "language_info": {
      "name": "python"
    }
  },
  "cells": [
    {
      "cell_type": "markdown",
      "metadata": {
        "id": "view-in-github",
        "colab_type": "text"
      },
      "source": [
        "<a href=\"https://colab.research.google.com/github/OnyxianSoul/ElementalWeightCalculator/blob/main/Elemental_Weight_Calculator.ipynb\" target=\"_parent\"><img src=\"https://colab.research.google.com/assets/colab-badge.svg\" alt=\"Open In Colab\"/></a>"
      ]
    },
    {
      "cell_type": "markdown",
      "source": [
        "<h1><font color=\"#04AFDA\">Elemental weight calculator</font></h1>\n",
        "**A simple jupyter notebook that uses python to calculate the amount of each element in x amount of a molecule.**\n",
        "\n",
        "It will take a few seconds the first time because its setting up the enviroment.\n",
        "\n",
        "A warning will pop up reminding you that this notebook was not made by google, but by me. *Its a standard warning, feel free to inspect the code, it only performs the steps necessairy to produce the table.*\n",
        "\n",
        "Credits to Bowserinator for [his periodic table in csv format](https://github.com/Bowserinator/Periodic-Table-JSON/blob/master/PeriodicTableCSV.csv) 😀"
      ],
      "metadata": {
        "id": "yVO5DQizCLo3"
      }
    },
    {
      "cell_type": "code",
      "source": [
        "# @title ## $\\color{#04AFDA}{\\text{Fill the molecule details and press the play button!}}$\n",
        "Formula = \"H2O(CH2)4Ca\" # @param {type:\"string\"}\n",
        "Amount = 100 # @param {type:\"integer\"}\n",
        "Unit = \"gr\" # @param {type:\"string\"}\n",
        "\n",
        "import urllib.request\n",
        "import pandas as pd\n",
        "import re\n",
        "\n",
        "link = 'https://github.com/Bowserinator/Periodic-Table-JSON/blob/master/PeriodicTableCSV.csv'\n",
        "dowload_link = link.replace(\"github.com\", \"raw.githubusercontent.com\").replace(\"/blob/\", \"/\")\n",
        "file_name = \"PeriodicTable.csv\"\n",
        "urllib.request.urlretrieve(dowload_link, file_name)\n",
        "elements_df = pd.read_csv(file_name, usecols=['name', 'atomic_mass', 'symbol'])\n",
        "symbols_list = elements_df['symbol'].to_list()\n",
        "pattern = re.compile(r'([A-Z][a-z]*)(\\d*)|(\\((.+?)\\)(\\d*))')\n",
        "\n",
        "def parse_formula(formula):\n",
        "    counts = {symbol: 0 for symbol in symbols_list}\n",
        "\n",
        "    def handle_match(match):\n",
        "        if match[0]:  # Element\n",
        "            element = match[0]\n",
        "            count = int(match[1]) if match[1] else 1\n",
        "            counts[element] += count\n",
        "        else:  # Group\n",
        "            group_formula = match[3]\n",
        "            multiplier = int(match[4]) if match[4] else 1\n",
        "            group_counts = parse_formula(group_formula)\n",
        "            for element, count in group_counts.items():\n",
        "                counts[element] += count * multiplier\n",
        "\n",
        "    for match in pattern.findall(formula):\n",
        "        handle_match(match)\n",
        "\n",
        "    return counts\n",
        "\n",
        "\n",
        "def calculate_element_mass(formula, molecule_amount, molecule_amount_unit):\n",
        "    counts = parse_formula(formula)\n",
        "\n",
        "    # Calculate the molecular weight of each element, the total mass of each element, and the proportion of the total mass of each element to the total mass of the formula\n",
        "    total_mass = 0\n",
        "    element_masses = {}\n",
        "    element_atomic_masses = {}\n",
        "    for element, count in counts.items():\n",
        "        if count > 0:\n",
        "            atomic_mass = elements_df.loc[elements_df['symbol'] == element, 'atomic_mass'].values[0]\n",
        "            element_atomic_masses[element] = atomic_mass\n",
        "            element_mass = atomic_mass * count\n",
        "            element_masses[element] = element_mass\n",
        "            total_mass += element_mass\n",
        "\n",
        "    # Create a DataFrame to store the results\n",
        "    results = []\n",
        "    three_decimals = \"{:.3f}\"\n",
        "    for element, element_mass in element_masses.items():\n",
        "        count = counts[element]\n",
        "        atomic_mass = element_atomic_masses[element]\n",
        "        proportion = element_mass / total_mass\n",
        "        total_in_amount = proportion * molecule_amount\n",
        "        results.append([element,\n",
        "                        count,\n",
        "                        three_decimals.format(atomic_mass),\n",
        "                        three_decimals.format(element_mass),\n",
        "                        f'{three_decimals.format(element_mass)} / {three_decimals.format(total_mass)}',\n",
        "                        three_decimals.format(proportion),\n",
        "                        three_decimals.format(total_in_amount)])\n",
        "\n",
        "    results_df = pd.DataFrame(results,\n",
        "                              columns=['Element', 'Atoms', 'Atomic mass', 'Mass per Molecule', 'Proportion Formula', 'Proportion', f'{molecule_amount_unit} in {molecule_amount}{molecule_amount_unit} {formula}'])\n",
        "    return results_df\n",
        "\n",
        "df = calculate_element_mass(Formula, Amount, Unit).sort_values(by='Element')\n",
        "\n",
        "from IPython.display import HTML\n",
        "display(HTML(f'<h2>Molecule: <span style=\"color:#04AFDA\">{Formula}</span></h2>'))\n",
        "display(df.style.hide(axis='index').set_properties(**{'text-align': 'center'}))\n",
        "\n"
      ],
      "metadata": {
        "colab": {
          "base_uri": "https://localhost:8080/",
          "height": 222
        },
        "cellView": "form",
        "id": "Q270CDZtE_UQ",
        "outputId": "8da22751-6d32-4784-8675-3a93d7ae9a10"
      },
      "execution_count": null,
      "outputs": [
        {
          "output_type": "display_data",
          "data": {
            "text/plain": [
              "<IPython.core.display.HTML object>"
            ],
            "text/html": [
              "<h2>Molecule: <span style=\"color:#04AFDA\">H2O(CH2)4Ca</span></h2>"
            ]
          },
          "metadata": {}
        },
        {
          "output_type": "display_data",
          "data": {
            "text/plain": [
              "<pandas.io.formats.style.Styler at 0x7884cc726d70>"
            ],
            "text/html": [
              "<style type=\"text/css\">\n",
              "#T_c3b9e_row0_col0, #T_c3b9e_row0_col1, #T_c3b9e_row0_col2, #T_c3b9e_row0_col3, #T_c3b9e_row0_col4, #T_c3b9e_row0_col5, #T_c3b9e_row0_col6, #T_c3b9e_row1_col0, #T_c3b9e_row1_col1, #T_c3b9e_row1_col2, #T_c3b9e_row1_col3, #T_c3b9e_row1_col4, #T_c3b9e_row1_col5, #T_c3b9e_row1_col6, #T_c3b9e_row2_col0, #T_c3b9e_row2_col1, #T_c3b9e_row2_col2, #T_c3b9e_row2_col3, #T_c3b9e_row2_col4, #T_c3b9e_row2_col5, #T_c3b9e_row2_col6, #T_c3b9e_row3_col0, #T_c3b9e_row3_col1, #T_c3b9e_row3_col2, #T_c3b9e_row3_col3, #T_c3b9e_row3_col4, #T_c3b9e_row3_col5, #T_c3b9e_row3_col6 {\n",
              "  text-align: center;\n",
              "}\n",
              "</style>\n",
              "<table id=\"T_c3b9e\" class=\"dataframe\">\n",
              "  <thead>\n",
              "    <tr>\n",
              "      <th id=\"T_c3b9e_level0_col0\" class=\"col_heading level0 col0\" >Element</th>\n",
              "      <th id=\"T_c3b9e_level0_col1\" class=\"col_heading level0 col1\" >Atoms</th>\n",
              "      <th id=\"T_c3b9e_level0_col2\" class=\"col_heading level0 col2\" >Atomic mass</th>\n",
              "      <th id=\"T_c3b9e_level0_col3\" class=\"col_heading level0 col3\" >Mass per Molecule</th>\n",
              "      <th id=\"T_c3b9e_level0_col4\" class=\"col_heading level0 col4\" >Proportion Formula</th>\n",
              "      <th id=\"T_c3b9e_level0_col5\" class=\"col_heading level0 col5\" >Proportion</th>\n",
              "      <th id=\"T_c3b9e_level0_col6\" class=\"col_heading level0 col6\" >gr in 100gr H2O(CH2)4Ca</th>\n",
              "    </tr>\n",
              "  </thead>\n",
              "  <tbody>\n",
              "    <tr>\n",
              "      <td id=\"T_c3b9e_row0_col0\" class=\"data row0 col0\" >C</td>\n",
              "      <td id=\"T_c3b9e_row0_col1\" class=\"data row0 col1\" >4</td>\n",
              "      <td id=\"T_c3b9e_row0_col2\" class=\"data row0 col2\" >12.011</td>\n",
              "      <td id=\"T_c3b9e_row0_col3\" class=\"data row0 col3\" >48.044</td>\n",
              "      <td id=\"T_c3b9e_row0_col4\" class=\"data row0 col4\" >48.044 / 114.201</td>\n",
              "      <td id=\"T_c3b9e_row0_col5\" class=\"data row0 col5\" >0.421</td>\n",
              "      <td id=\"T_c3b9e_row0_col6\" class=\"data row0 col6\" >42.070</td>\n",
              "    </tr>\n",
              "    <tr>\n",
              "      <td id=\"T_c3b9e_row1_col0\" class=\"data row1 col0\" >Ca</td>\n",
              "      <td id=\"T_c3b9e_row1_col1\" class=\"data row1 col1\" >1</td>\n",
              "      <td id=\"T_c3b9e_row1_col2\" class=\"data row1 col2\" >40.078</td>\n",
              "      <td id=\"T_c3b9e_row1_col3\" class=\"data row1 col3\" >40.078</td>\n",
              "      <td id=\"T_c3b9e_row1_col4\" class=\"data row1 col4\" >40.078 / 114.201</td>\n",
              "      <td id=\"T_c3b9e_row1_col5\" class=\"data row1 col5\" >0.351</td>\n",
              "      <td id=\"T_c3b9e_row1_col6\" class=\"data row1 col6\" >35.094</td>\n",
              "    </tr>\n",
              "    <tr>\n",
              "      <td id=\"T_c3b9e_row2_col0\" class=\"data row2 col0\" >H</td>\n",
              "      <td id=\"T_c3b9e_row2_col1\" class=\"data row2 col1\" >10</td>\n",
              "      <td id=\"T_c3b9e_row2_col2\" class=\"data row2 col2\" >1.008</td>\n",
              "      <td id=\"T_c3b9e_row2_col3\" class=\"data row2 col3\" >10.080</td>\n",
              "      <td id=\"T_c3b9e_row2_col4\" class=\"data row2 col4\" >10.080 / 114.201</td>\n",
              "      <td id=\"T_c3b9e_row2_col5\" class=\"data row2 col5\" >0.088</td>\n",
              "      <td id=\"T_c3b9e_row2_col6\" class=\"data row2 col6\" >8.827</td>\n",
              "    </tr>\n",
              "    <tr>\n",
              "      <td id=\"T_c3b9e_row3_col0\" class=\"data row3 col0\" >O</td>\n",
              "      <td id=\"T_c3b9e_row3_col1\" class=\"data row3 col1\" >1</td>\n",
              "      <td id=\"T_c3b9e_row3_col2\" class=\"data row3 col2\" >15.999</td>\n",
              "      <td id=\"T_c3b9e_row3_col3\" class=\"data row3 col3\" >15.999</td>\n",
              "      <td id=\"T_c3b9e_row3_col4\" class=\"data row3 col4\" >15.999 / 114.201</td>\n",
              "      <td id=\"T_c3b9e_row3_col5\" class=\"data row3 col5\" >0.140</td>\n",
              "      <td id=\"T_c3b9e_row3_col6\" class=\"data row3 col6\" >14.009</td>\n",
              "    </tr>\n",
              "  </tbody>\n",
              "</table>\n"
            ]
          },
          "metadata": {}
        }
      ]
    },
    {
      "cell_type": "markdown",
      "source": [],
      "metadata": {
        "id": "vtUgx_zDk4cO"
      }
    }
  ]
}